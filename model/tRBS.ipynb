{
 "cells": [
  {
   "cell_type": "markdown",
   "metadata": {},
   "source": [
    "## Model: Responsible Business Simulator (RBS)\n",
    "In this notebook the core (calculation) steps of the RBS model are illustrated.\n",
    "\n",
    "### (I): Read data\n",
    "Firstly, we are going to read in the data. To do this we use the **import_case()** function that is part of the **core**-folder. This function takes two arguments: a _file_format_ (csv, json or xlsx) and a _path_ to the folder containing the data-folders. Note that with folder there should a folder with a name that matches the _file_format_.  "
   ]
  },
  {
   "cell_type": "code",
   "execution_count": 2,
   "metadata": {},
   "outputs": [
    {
     "name": "stdout",
     "output_type": "stream",
     "text": [
      "/Users/tdijk004/Documents/tRBS/open source/tRBS_model/model/data/beerwiser/xlsx/beerwiser.xlsx\n",
      "/Users/tdijk004/Documents/tRBS/open source/tRBS_model/model/data/beerwiser/xlsx/beerwiser.xlsx\n",
      "/Users/tdijk004/Documents/tRBS/open source/tRBS_model/model/data/beerwiser/xlsx/beerwiser.xlsx\n",
      "/Users/tdijk004/Documents/tRBS/open source/tRBS_model/model/data/beerwiser/xlsx/beerwiser.xlsx\n",
      "/Users/tdijk004/Documents/tRBS/open source/tRBS_model/model/data/beerwiser/xlsx/beerwiser.xlsx\n",
      "/Users/tdijk004/Documents/tRBS/open source/tRBS_model/model/data/beerwiser/xlsx/beerwiser.xlsx\n",
      "/Users/tdijk004/Documents/tRBS/open source/tRBS_model/model/data/beerwiser/xlsx/beerwiser.xlsx\n",
      "/Users/tdijk004/Documents/tRBS/open source/tRBS_model/model/data/beerwiser/xlsx/beerwiser.xlsx\n",
      "/Users/tdijk004/Documents/tRBS/open source/tRBS_model/model/data/beerwiser/xlsx/beerwiser.xlsx\n",
      "/Users/tdijk004/Documents/tRBS/open source/tRBS_model/model/data/beerwiser/xlsx/beerwiser.xlsx\n"
     ]
    },
    {
     "data": {
      "text/plain": [
       "{'configurations': array(['use_theme_weights'], dtype=object),\n",
       " 'configuration_value': array([0]),\n",
       " 'key_outputs': array(['Accidents reduction', 'Water use reduction',\n",
       "        'Production cost reduction'], dtype=object),\n",
       " 'key_output_unit': array(['#/year', 'hl/year', '%'], dtype=object),\n",
       " 'key_output_theme': array(['People', 'Planet', 'Profit'], dtype=object),\n",
       " 'themes': array(['People', 'Planet', 'Profit'], dtype='<U32'),\n",
       " 'key_output_minimum': array([nan, nan, nan]),\n",
       " 'key_output_maximum': array([nan, nan, nan]),\n",
       " 'key_output_monetary': array([0, 0, 0]),\n",
       " 'key_output_smaller_the_better': array([0, 0, 0]),\n",
       " 'key_output_linear': array([1, 1, 0]),\n",
       " 'key_output_automatic': array([1, 1, 1]),\n",
       " 'key_output_start': array([nan, nan, nan]),\n",
       " 'key_output_end': array([nan, nan, nan]),\n",
       " 'key_output_threshold': array([nan, nan, nan]),\n",
       " 'decision_makers_options': array(['Focus on water recycling', 'Focus on training', 'Equal spread'],\n",
       "       dtype='<U32'),\n",
       " 'internal_variable_inputs': array(['Invest in training of employees', 'Invest in water recycling'],\n",
       "       dtype='<U32'),\n",
       " 'decision_makers_option_value': array([[5.0e+004, 2.5e+005],\n",
       "        [2.0e-323, 5.0e+004],\n",
       "        [9.9e-324, 1.5e+005]]),\n",
       " 'scenarios': array(['Base case', 'Optimistic', 'Pessimistic'], dtype='<U32'),\n",
       " 'external_variable_inputs': array(['Cost of accident', 'Effectiveness water recycling'], dtype='<U32'),\n",
       " 'scenario_value': array([[1.50000000e+004, 9.80000000e-001],\n",
       "        [1.97626258e-323, 1.00000000e+000],\n",
       "        [2.14321575e-312, 9.00000000e-001]]),\n",
       " 'fixed_inputs': array(['# employees', 'Current # accidents', 'Current production cost',\n",
       "        'Current water use', 'Water unit cost'], dtype=object),\n",
       " 'fixed_input_value': array([5.0e+02, 5.1e+01, 7.5e+06, 1.5e+07, 5.0e-02]),\n",
       " 'fixed_input_unit': array(['#', '#', '$', 'hl', '$'], dtype=object),\n",
       " 'intermediates': array(['Accidents reduction %', 'Water use reduction % when effective',\n",
       "        'Water use reduction %', 'Production cost reduction $',\n",
       "        'Cost of training per employee', 'New water use',\n",
       "        'New # accidents'], dtype=object),\n",
       " 'intermediate_unit': array(['%', '%', '%', '$', '$', 'hl/year', '#/year'], dtype=object),\n",
       " 'intermediate_minimum': array([nan, nan, nan, nan, nan, nan, nan]),\n",
       " 'intermediate_maximum': array([nan, nan, nan, nan, nan, nan, nan]),\n",
       " 'dependencies': array([ 0,  1,  8,  9, 11,  2,  3,  4,  6, 10,  5, 12,  7]),\n",
       " 'destination': array(['Accidents reduction %', 'Water use reduction % when effective',\n",
       "        'Cost of training per employee', 'New # accidents',\n",
       "        'New water use', 'Water use reduction %', 'Accidents reduction',\n",
       "        'Water use reduction', 'Production cost reduction $',\n",
       "        'New # accidents', 'Production cost reduction $', 'New water use',\n",
       "        'Production cost reduction'], dtype=object),\n",
       " 'argument_1': array(['Invest in training of employees', 'Invest in water recycling',\n",
       "        'Invest in training of employees', 'Current # accidents',\n",
       "        'Current water use', 'Water use reduction % when effective',\n",
       "        'Current # accidents', 'Water use reduction %',\n",
       "        'Accidents reduction', 'Accidents reduction',\n",
       "        'Water use reduction', 'Water use reduction',\n",
       "        'Production cost reduction $'], dtype=object),\n",
       " 'argument_2': array(['', '', '# employees', '', '', 'Effectiveness water recycling',\n",
       "        'Accidents reduction %', 'Current water use', 'Cost of accident',\n",
       "        '', 'Water unit cost', '', 'Current production cost'], dtype=object),\n",
       " 'operator': array(['Squeezed *', 'Squeezed *', '/', '*', '*', '*', '*', '*', '*',\n",
       "        '-*', '*', '-*', '/'], dtype=object),\n",
       " 'maximum_effect': array([0.48, 0.5 ,  nan,  nan,  nan,  nan,  nan,  nan,  nan,  nan,  nan,\n",
       "         nan,  nan]),\n",
       " 'accessibility': array([0.95, 1.  ,  nan,  nan,  nan,  nan,  nan,  nan,  nan,  nan,  nan,\n",
       "         nan,  nan]),\n",
       " 'probability_of_success': array([0.9, 1. , nan, nan, nan, nan, nan, nan, nan, nan, nan, nan, nan]),\n",
       " 'saturation_point': array([300000., 275000.,     nan,     nan,     nan,     nan,     nan,\n",
       "            nan,     nan,     nan,     nan,     nan,     nan]),\n",
       " 'theme_weight': array([2, 1, 3]),\n",
       " 'key_output_weight': array([2., 1., 3.])}"
      ]
     },
     "execution_count": 2,
     "metadata": {},
     "output_type": "execute_result"
    }
   ],
   "source": [
    "from pathlib import Path\n",
    "from core.import_case import import_case\n",
    "\n",
    "file_format = 'xlsx'\n",
    "path = Path.cwd() / 'data' / 'beerwiser'\n",
    "import_case(file_format, path)"
   ]
  },
  {
   "cell_type": "code",
   "execution_count": 12,
   "metadata": {
    "pycharm": {
     "name": "#%%\n"
    }
   },
   "outputs": [
    {
     "data": {
      "text/plain": [
       "PosixPath('model/data/beerwiser/hoi')"
      ]
     },
     "execution_count": 12,
     "metadata": {},
     "output_type": "execute_result"
    }
   ],
   "source": []
  }
 ],
 "metadata": {
  "kernelspec": {
   "display_name": "Python 3 (ipykernel)",
   "language": "python",
   "name": "python3"
  },
  "language_info": {
   "codemirror_mode": {
    "name": "ipython",
    "version": 3
   },
   "file_extension": ".py",
   "mimetype": "text/x-python",
   "name": "python",
   "nbconvert_exporter": "python",
   "pygments_lexer": "ipython3",
   "version": "3.9.0"
  }
 },
 "nbformat": 4,
 "nbformat_minor": 1
}