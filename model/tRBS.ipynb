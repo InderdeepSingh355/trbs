{
 "cells": [
  {
   "cell_type": "markdown",
   "metadata": {},
   "source": [
    "## Model: Responsible Business Simulator (RBS)\n",
    "In this notebook the core (calculation) steps of the RBS model are illustrated.\n",
    "\n",
    "### (I): the RBS class\n",
    "In order to work with the Responsible Business Simulator model, we will work with the ```ResponsibleSimulatorClass```. This class can be found in **core/tRBS.py**. This class takes three input values: (i) the name of the case, (ii) the format of the data (xlsx, json, csv) and (iii) the folder where data of the case can be found."
   ]
  },
  {
   "cell_type": "code",
   "execution_count": 1,
   "metadata": {},
   "outputs": [
    {
     "ename": "ModuleNotFoundError",
     "evalue": "No module named 'core.tRBS'",
     "output_type": "error",
     "traceback": [
      "\u001b[0;31m---------------------------------------------------------------------------\u001b[0m",
      "\u001b[0;31mModuleNotFoundError\u001b[0m                       Traceback (most recent call last)",
      "Cell \u001b[0;32mIn[1], line 2\u001b[0m\n\u001b[1;32m      1\u001b[0m \u001b[38;5;28;01mfrom\u001b[39;00m \u001b[38;5;21;01mpathlib\u001b[39;00m \u001b[38;5;28;01mimport\u001b[39;00m Path\n\u001b[0;32m----> 2\u001b[0m \u001b[38;5;28;01mfrom\u001b[39;00m \u001b[38;5;21;01mcore\u001b[39;00m\u001b[38;5;21;01m.\u001b[39;00m\u001b[38;5;21;01mtRBS\u001b[39;00m \u001b[38;5;28;01mimport\u001b[39;00m ResponsibleBusinessSimulator\n\u001b[1;32m      4\u001b[0m name \u001b[38;5;241m=\u001b[39m \u001b[38;5;124m'\u001b[39m\u001b[38;5;124mBeerwiser\u001b[39m\u001b[38;5;124m'\u001b[39m\n\u001b[1;32m      5\u001b[0m file_format \u001b[38;5;241m=\u001b[39m \u001b[38;5;124m'\u001b[39m\u001b[38;5;124mxlsx\u001b[39m\u001b[38;5;124m'\u001b[39m\n",
      "\u001b[0;31mModuleNotFoundError\u001b[0m: No module named 'core.tRBS'"
     ]
    }
   ],
   "source": [
    "from pathlib import Path\n",
    "from core.trbs import ResponsibleBusinessSimulator\n",
    "\n",
    "name = 'Beerwiser'\n",
    "file_format = 'xlsx'\n",
    "path = Path.cwd() / 'data' / 'beerwiser'\n",
    "\n",
    "case = ResponsibleBusinessSimulator(name, file_format, path)"
   ]
  },
  {
   "cell_type": "markdown",
   "metadata": {},
   "source": [
    "Let's see how ```case``` looks currently:"
   ]
  },
  {
   "cell_type": "code",
   "execution_count": null,
   "metadata": {},
   "outputs": [],
   "source": [
    "print(case)"
   ]
  },
  {
   "cell_type": "markdown",
   "metadata": {
    "pycharm": {
     "name": "#%% md\n"
    }
   },
   "source": [
    "Currently, it is rather empty. To get the input data, we will first need to ```build``` our case."
   ]
  },
  {
   "cell_type": "code",
   "execution_count": 3,
   "metadata": {
    "pycharm": {
     "name": "#%%\n"
    }
   },
   "outputs": [
    {
     "name": "stdout",
     "output_type": "stream",
     "text": [
      "Creating 'Beerwiser'\n",
      "Case: Beerwiser (xlsx) \n",
      "Data location: /Users/tdijk004/Documents/tRBS/open source/tRBS_model/model/data/beerwiser \n",
      "Input data: \n",
      " configurations\n",
      "\t['use_theme_weights']\n",
      "\n",
      "configuration_value\n",
      "\t[0]\n",
      "\n",
      "key_outputs\n",
      "\t['Accidents reduction' 'Water use reduction' 'Production cost reduction']\n",
      "\n",
      "key_output_unit\n",
      "\t['#/year' 'hl/year' '%']\n",
      "\n",
      "key_output_theme\n",
      "\t['People' 'Planet' 'Profit']\n",
      "\n",
      "themes\n",
      "\t['People' 'Planet' 'Profit']\n",
      "\n",
      "key_output_minimum\n",
      "\t[nan nan nan]\n",
      "\n",
      "key_output_maximum\n",
      "\t[nan nan nan]\n",
      "\n",
      "key_output_monetary\n",
      "\t[0 0 0]\n",
      "\n",
      "key_output_smaller_the_better\n",
      "\t[0 0 0]\n",
      "\n",
      "key_output_linear\n",
      "\t[1 1 0]\n",
      "\n",
      "key_output_automatic\n",
      "\t[1 1 1]\n",
      "\n",
      "key_output_start\n",
      "\t[nan nan nan]\n",
      "\n",
      "key_output_end\n",
      "\t[nan nan nan]\n",
      "\n",
      "key_output_threshold\n",
      "\t[nan nan nan]\n",
      "\n",
      "decision_makers_options\n",
      "\t['Focus on water recycling' 'Focus on training' 'Equal spread']\n",
      "\n",
      "internal_variable_inputs\n",
      "\t['Invest in training of employees' 'Invest in water recycling']\n",
      "\n",
      "decision_makers_option_value\n",
      "\t[[5.0e+004 2.5e+005]\n",
      " [2.0e-323 5.0e+004]\n",
      " [9.9e-324 1.5e+005]]\n",
      "\n",
      "scenarios\n",
      "\t['Base case' 'Optimistic' 'Pessimistic']\n",
      "\n",
      "external_variable_inputs\n",
      "\t['Cost of accident' 'Effectiveness water recycling']\n",
      "\n",
      "scenario_value\n",
      "\t[[1.50000000e+004 9.80000000e-001]\n",
      " [1.97626258e-323 1.00000000e+000]\n",
      " [2.14321575e-312 9.00000000e-001]]\n",
      "\n",
      "fixed_inputs\n",
      "\t['# employees' 'Current # accidents' 'Current production cost'\n",
      " 'Current water use' 'Water unit cost']\n",
      "\n",
      "fixed_input_value\n",
      "\t[5.0e+02 5.1e+01 7.5e+06 1.5e+07 5.0e-02]\n",
      "\n",
      "fixed_input_unit\n",
      "\t['#' '#' '$' 'hl' '$']\n",
      "\n",
      "intermediates\n",
      "\t['Accidents reduction %' 'Water use reduction % when effective'\n",
      " 'Water use reduction %' 'Production cost reduction $'\n",
      " 'Cost of training per employee' 'New water use' 'New # accidents']\n",
      "\n",
      "intermediate_unit\n",
      "\t['%' '%' '%' '$' '$' 'hl/year' '#/year']\n",
      "\n",
      "intermediate_minimum\n",
      "\t[nan nan nan nan nan nan nan]\n",
      "\n",
      "intermediate_maximum\n",
      "\t[nan nan nan nan nan nan nan]\n",
      "\n",
      "dependencies\n",
      "\t[ 0  1  8  9 11  2  3  4  6 10  5 12  7]\n",
      "\n",
      "destination\n",
      "\t['Accidents reduction %' 'Water use reduction % when effective'\n",
      " 'Cost of training per employee' 'New # accidents' 'New water use'\n",
      " 'Water use reduction %' 'Accidents reduction' 'Water use reduction'\n",
      " 'Production cost reduction $' 'New # accidents'\n",
      " 'Production cost reduction $' 'New water use' 'Production cost reduction']\n",
      "\n",
      "argument_1\n",
      "\t['Invest in training of employees' 'Invest in water recycling'\n",
      " 'Invest in training of employees' 'Current # accidents'\n",
      " 'Current water use' 'Water use reduction % when effective'\n",
      " 'Current # accidents' 'Water use reduction %' 'Accidents reduction'\n",
      " 'Accidents reduction' 'Water use reduction' 'Water use reduction'\n",
      " 'Production cost reduction $']\n",
      "\n",
      "argument_2\n",
      "\t['' '' '# employees' '' '' 'Effectiveness water recycling'\n",
      " 'Accidents reduction %' 'Current water use' 'Cost of accident' ''\n",
      " 'Water unit cost' '' 'Current production cost']\n",
      "\n",
      "operator\n",
      "\t['Squeezed *' 'Squeezed *' '/' '*' '*' '*' '*' '*' '*' '-*' '*' '-*' '/']\n",
      "\n",
      "maximum_effect\n",
      "\t[0.48 0.5   nan  nan  nan  nan  nan  nan  nan  nan  nan  nan  nan]\n",
      "\n",
      "accessibility\n",
      "\t[0.95 1.    nan  nan  nan  nan  nan  nan  nan  nan  nan  nan  nan]\n",
      "\n",
      "probability_of_success\n",
      "\t[0.9 1.  nan nan nan nan nan nan nan nan nan nan nan]\n",
      "\n",
      "saturation_point\n",
      "\t[300000. 275000.     nan     nan     nan     nan     nan     nan     nan\n",
      "     nan     nan     nan     nan]\n",
      "\n",
      "theme_weight\n",
      "\t[2 1 3]\n",
      "\n",
      "key_output_weight\n",
      "\t[2. 1. 3.]\n",
      "\n",
      "scenario_weight\n",
      "\t[2. 1. 3.]\n"
     ]
    }
   ],
   "source": [
    "case.build()\n",
    "print(case)"
   ]
  },
  {
   "cell_type": "code",
   "execution_count": 4,
   "metadata": {
    "pycharm": {
     "name": "#%%\n"
    }
   },
   "outputs": [
    {
     "name": "stdout",
     "output_type": "stream",
     "text": [
      "Base case Focus on water recycling\n",
      "Base case Focus on training\n",
      "Base case Equal spread\n",
      "Optimistic Focus on water recycling\n",
      "Optimistic Focus on training\n",
      "Optimistic Equal spread\n",
      "Pessimistic Focus on water recycling\n",
      "Pessimistic Focus on training\n",
      "Pessimistic Equal spread\n"
     ]
    }
   ],
   "source": [
    "case.evaluate()"
   ]
  },
  {
   "cell_type": "code",
   "execution_count": null,
   "metadata": {},
   "outputs": [],
   "source": []
  }
 ],
 "metadata": {
  "kernelspec": {
   "display_name": "Python 3 (ipykernel)",
   "language": "python",
   "name": "python3"
  },
  "language_info": {
   "codemirror_mode": {
    "name": "ipython",
    "version": 3
   },
   "file_extension": ".py",
   "mimetype": "text/x-python",
   "name": "python",
   "nbconvert_exporter": "python",
   "pygments_lexer": "ipython3",
   "version": "3.9.0"
  }
 },
 "nbformat": 4,
 "nbformat_minor": 1
}
