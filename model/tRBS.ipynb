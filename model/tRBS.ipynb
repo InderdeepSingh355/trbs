{
 "cells": [
  {
   "cell_type": "markdown",
   "metadata": {},
   "source": [
    "## Model: Responsible Business Simulator (RBS)\n",
    "In this notebook the core (calculation) steps of the RBS model are illustrated.\n",
    "\n",
    "### (I): the RBS class\n",
    "In order to work with the Responsible Business Simulator model, we will work with the ```ResponsibleSimulatorClass```. This class can be found in **core/tRBS.py**. This class takes three input values: (i) the name of the case, (ii) the format of the data (xlsx, json, csv) and (iii) the folder where data of the case can be found."
   ]
  },
  {
   "cell_type": "code",
   "execution_count": 1,
   "metadata": {},
   "outputs": [],
   "source": [
    "from pathlib import Path\n",
    "from core.trbs import ResponsibleBusinessSimulator\n",
    "\n",
    "name = 'Beerwiser'\n",
    "file_format = 'xlsx'\n",
    "path = Path.cwd() / 'data' / 'beerwiser'\n",
    "\n",
    "case = ResponsibleBusinessSimulator(name, file_format, path)"
   ]
  },
  {
   "cell_type": "markdown",
   "metadata": {},
   "source": [
    "Let's see how ```case``` looks currently:"
   ]
  },
  {
   "cell_type": "code",
   "execution_count": 2,
   "metadata": {},
   "outputs": [
    {
     "name": "stdout",
     "output_type": "stream",
     "text": [
      "Case: Beerwiser (xlsx) \n",
      "Data location: /Users/tdijk004/Documents/tRBS/open source/tRBS_model/model/data/beerwiser \n",
      "Input data: \n",
      " \n"
     ]
    }
   ],
   "source": [
    "print(case)"
   ]
  },
  {
   "cell_type": "markdown",
   "metadata": {
    "pycharm": {
     "name": "#%% md\n"
    }
   },
   "source": [
    "Currently, it is rather empty. To get the input data, we will first need to ```build``` our case."
   ]
  },
  {
   "cell_type": "code",
   "execution_count": 3,
   "metadata": {
    "pycharm": {
     "name": "#%%\n"
    }
   },
   "outputs": [
    {
     "name": "stdout",
     "output_type": "stream",
     "text": [
      "Creating 'Beerwiser'\n",
      "Case: Beerwiser (xlsx) \n",
      "Data location: /Users/tdijk004/Documents/tRBS/open source/tRBS_model/model/data/beerwiser \n",
      "Input data: \n",
      " configurations\n",
      "\t['use_theme_weights']\n",
      "\n",
      "configuration_value\n",
      "\t[0]\n",
      "\n",
      "key_outputs\n",
      "\t['Accidents reduction' 'Water use reduction' 'Production cost reduction']\n",
      "\n",
      "key_output_unit\n",
      "\t['#/year' 'hl/year' '%']\n",
      "\n",
      "key_output_theme\n",
      "\t['People' 'Planet' 'Profit']\n",
      "\n",
      "themes\n",
      "\t['People' 'Planet' 'Profit']\n",
      "\n",
      "key_output_minimum\n",
      "\t[nan nan nan]\n",
      "\n",
      "key_output_maximum\n",
      "\t[nan nan nan]\n",
      "\n",
      "key_output_monetary\n",
      "\t[0 0 0]\n",
      "\n",
      "key_output_smaller_the_better\n",
      "\t[0 0 0]\n",
      "\n",
      "key_output_linear\n",
      "\t[1 1 0]\n",
      "\n",
      "key_output_automatic\n",
      "\t[1 1 1]\n",
      "\n",
      "key_output_start\n",
      "\t[nan nan nan]\n",
      "\n",
      "key_output_end\n",
      "\t[nan nan nan]\n",
      "\n",
      "key_output_threshold\n",
      "\t[nan nan nan]\n",
      "\n",
      "decision_makers_options\n",
      "\t['Focus on water recycling' 'Focus on training' 'Equal spread']\n",
      "\n",
      "internal_variable_inputs\n",
      "\t['Invest in training of employees' 'Invest in water recycling']\n",
      "\n",
      "decision_makers_option_value\n",
      "\t[[5.0e+004 2.5e+005]\n",
      " [2.0e-323 5.0e+004]\n",
      " [9.9e-324 1.5e+005]]\n",
      "\n",
      "scenarios\n",
      "\t['Base case' 'Optimistic' 'Pessimistic']\n",
      "\n",
      "external_variable_inputs\n",
      "\t['Cost of accident' 'Effectiveness water recycling']\n",
      "\n",
      "scenario_value\n",
      "\t[[1.50000000e+004 9.80000000e-001]\n",
      " [1.97626258e-323 1.00000000e+000]\n",
      " [2.14321575e-312 9.00000000e-001]]\n",
      "\n",
      "fixed_inputs\n",
      "\t['# employees' 'Current # accidents' 'Current production cost'\n",
      " 'Current water use' 'Water unit cost']\n",
      "\n",
      "fixed_input_value\n",
      "\t[5.0e+02 5.1e+01 7.5e+06 1.5e+07 5.0e-02]\n",
      "\n",
      "fixed_input_unit\n",
      "\t['#' '#' '$' 'hl' '$']\n",
      "\n",
      "intermediates\n",
      "\t['Accidents reduction %' 'Water use reduction % when effective'\n",
      " 'Water use reduction %' 'Production cost reduction $'\n",
      " 'Cost of training per employee' 'New water use' 'New # accidents']\n",
      "\n",
      "intermediate_unit\n",
      "\t['%' '%' '%' '$' '$' 'hl/year' '#/year']\n",
      "\n",
      "intermediate_minimum\n",
      "\t[nan nan nan nan nan nan nan]\n",
      "\n",
      "intermediate_maximum\n",
      "\t[nan nan nan nan nan nan nan]\n",
      "\n",
      "dependencies\n",
      "\t[ 0  1  8  9 11  2  3  4  6 10  5 12  7]\n",
      "\n",
      "destination\n",
      "\t['Accidents reduction %' 'Water use reduction % when effective'\n",
      " 'Cost of training per employee' 'New # accidents' 'New water use'\n",
      " 'Water use reduction %' 'Accidents reduction' 'Water use reduction'\n",
      " 'Production cost reduction $' 'New # accidents'\n",
      " 'Production cost reduction $' 'New water use' 'Production cost reduction']\n",
      "\n",
      "argument_1\n",
      "\t['Invest in training of employees' 'Invest in water recycling'\n",
      " 'Invest in training of employees' 'Current # accidents'\n",
      " 'Current water use' 'Water use reduction % when effective'\n",
      " 'Current # accidents' 'Water use reduction %' 'Accidents reduction'\n",
      " 'Accidents reduction' 'Water use reduction' 'Water use reduction'\n",
      " 'Production cost reduction $']\n",
      "\n",
      "argument_2\n",
      "\t['' '' '# employees' '' '' 'Effectiveness water recycling'\n",
      " 'Accidents reduction %' 'Current water use' 'Cost of accident' ''\n",
      " 'Water unit cost' '' 'Current production cost']\n",
      "\n",
      "operator\n",
      "\t['Squeezed *' 'Squeezed *' '/' '*' '*' '*' '*' '*' '*' '-*' '*' '-*' '/']\n",
      "\n",
      "maximum_effect\n",
      "\t[0.48 0.5   nan  nan  nan  nan  nan  nan  nan  nan  nan  nan  nan]\n",
      "\n",
      "accessibility\n",
      "\t[0.95 1.    nan  nan  nan  nan  nan  nan  nan  nan  nan  nan  nan]\n",
      "\n",
      "probability_of_success\n",
      "\t[0.9 1.  nan nan nan nan nan nan nan nan nan nan nan]\n",
      "\n",
      "saturation_point\n",
      "\t[300000. 275000.     nan     nan     nan     nan     nan     nan     nan\n",
      "     nan     nan     nan     nan]\n",
      "\n",
      "theme_weight\n",
      "\t[2 1 3]\n",
      "\n",
      "key_output_weight\n",
      "\t[2. 1. 3.]\n",
      "\n",
      "scenario_weight\n",
      "\t[2. 1. 3.]\n"
     ]
    }
   ],
   "source": [
    "case.build()\n",
    "print(case)"
   ]
  },
  {
   "cell_type": "code",
   "execution_count": 4,
   "metadata": {
    "pycharm": {
     "name": "#%%\n"
    }
   },
   "outputs": [
    {
     "name": "stdout",
     "output_type": "stream",
     "text": [
      "\n",
      "0. 'Accidents reduction %' = 'Invest in training of employees' Squeezed * ''\n"
     ]
    },
    {
     "ename": "EvaluationError",
     "evalue": "Evaluation error: Squeezed * not available",
     "output_type": "error",
     "traceback": [
      "\u001B[0;31m---------------------------------------------------------------------------\u001B[0m",
      "\u001B[0;31mEvaluationError\u001B[0m                           Traceback (most recent call last)",
      "Cell \u001B[0;32mIn[4], line 1\u001B[0m\n\u001B[0;32m----> 1\u001B[0m \u001B[38;5;28;43;01mcase\u001B[39;49;00m\u001B[38;5;241;43m.\u001B[39;49m\u001B[43mevaluate\u001B[49m\u001B[43m(\u001B[49m\u001B[43m)\u001B[49m\n",
      "File \u001B[0;32m~/Documents/tRBS/open source/tRBS_model/model/core/trbs.py:38\u001B[0m, in \u001B[0;36mResponsibleBusinessSimulator.evaluate\u001B[0;34m(self)\u001B[0m\n\u001B[1;32m     36\u001B[0m \u001B[38;5;250m\u001B[39m\u001B[38;5;124;03m\"\"\"This function deals with the evaluation of all dependencies\"\"\"\u001B[39;00m\n\u001B[1;32m     37\u001B[0m case_evaluation \u001B[38;5;241m=\u001B[39m Evaluate(\u001B[38;5;28mself\u001B[39m\u001B[38;5;241m.\u001B[39minput_dict)\n\u001B[0;32m---> 38\u001B[0m \u001B[43mcase_evaluation\u001B[49m\u001B[38;5;241;43m.\u001B[39;49m\u001B[43mevaluate_all_scenarios\u001B[49m\u001B[43m(\u001B[49m\u001B[43m)\u001B[49m\n",
      "File \u001B[0;32m~/Documents/tRBS/open source/tRBS_model/model/core/evaluate.py:111\u001B[0m, in \u001B[0;36mEvaluate.evaluate_all_scenarios\u001B[0;34m(self)\u001B[0m\n\u001B[1;32m    105\u001B[0m \u001B[38;5;250m\u001B[39m\u001B[38;5;124;03m\"\"\"\u001B[39;00m\n\u001B[1;32m    106\u001B[0m \u001B[38;5;124;03m[All dependencies, for all scenario's, for all dmo's]\u001B[39;00m\n\u001B[1;32m    107\u001B[0m \u001B[38;5;124;03m:return:\u001B[39;00m\n\u001B[1;32m    108\u001B[0m \u001B[38;5;124;03m\"\"\"\u001B[39;00m\n\u001B[1;32m    110\u001B[0m \u001B[38;5;28;01mfor\u001B[39;00m scenario \u001B[38;5;129;01min\u001B[39;00m \u001B[38;5;28mself\u001B[39m\u001B[38;5;241m.\u001B[39minput_dict[\u001B[38;5;124m\"\u001B[39m\u001B[38;5;124mscenarios\u001B[39m\u001B[38;5;124m\"\u001B[39m]:\n\u001B[0;32m--> 111\u001B[0m     \u001B[38;5;28;43mself\u001B[39;49m\u001B[38;5;241;43m.\u001B[39;49m\u001B[43mevaluate_selected_scenario\u001B[49m\u001B[43m(\u001B[49m\u001B[43mscenario\u001B[49m\u001B[43m)\u001B[49m\n",
      "File \u001B[0;32m~/Documents/tRBS/open source/tRBS_model/model/core/evaluate.py:102\u001B[0m, in \u001B[0;36mEvaluate.evaluate_selected_scenario\u001B[0;34m(self, scenario)\u001B[0m\n\u001B[1;32m     97\u001B[0m \u001B[38;5;250m\u001B[39m\u001B[38;5;124;03m\"\"\"\u001B[39;00m\n\u001B[1;32m     98\u001B[0m \u001B[38;5;124;03m[All dependencies, for all dmos for a single scenario]\u001B[39;00m\n\u001B[1;32m     99\u001B[0m \u001B[38;5;124;03m:return:\u001B[39;00m\n\u001B[1;32m    100\u001B[0m \u001B[38;5;124;03m\"\"\"\u001B[39;00m\n\u001B[1;32m    101\u001B[0m \u001B[38;5;28;01mfor\u001B[39;00m decision_makers_option \u001B[38;5;129;01min\u001B[39;00m \u001B[38;5;28mself\u001B[39m\u001B[38;5;241m.\u001B[39minput_dict[\u001B[38;5;124m\"\u001B[39m\u001B[38;5;124mdecision_makers_options\u001B[39m\u001B[38;5;124m\"\u001B[39m]:\n\u001B[0;32m--> 102\u001B[0m     \u001B[38;5;28;43mself\u001B[39;49m\u001B[38;5;241;43m.\u001B[39;49m\u001B[43mevaluate_all_dependencies\u001B[49m\u001B[43m(\u001B[49m\u001B[43mscenario\u001B[49m\u001B[43m,\u001B[49m\u001B[43m \u001B[49m\u001B[43mdecision_makers_option\u001B[49m\u001B[43m)\u001B[49m\n",
      "File \u001B[0;32m~/Documents/tRBS/open source/tRBS_model/model/core/evaluate.py:94\u001B[0m, in \u001B[0;36mEvaluate.evaluate_all_dependencies\u001B[0;34m(self, scenario, decision_makers_option)\u001B[0m\n\u001B[1;32m     91\u001B[0m operator \u001B[38;5;241m=\u001B[39m \u001B[38;5;28mself\u001B[39m\u001B[38;5;241m.\u001B[39minput_dict[\u001B[38;5;124m'\u001B[39m\u001B[38;5;124moperator\u001B[39m\u001B[38;5;124m'\u001B[39m][index]\n\u001B[1;32m     93\u001B[0m \u001B[38;5;28mprint\u001B[39m(\u001B[38;5;124mf\u001B[39m\u001B[38;5;124m\"\u001B[39m\u001B[38;5;130;01m\\n\u001B[39;00m\u001B[38;5;132;01m{\u001B[39;00mindex\u001B[38;5;132;01m}\u001B[39;00m\u001B[38;5;124m. \u001B[39m\u001B[38;5;124m'\u001B[39m\u001B[38;5;132;01m{\u001B[39;00mdest\u001B[38;5;132;01m}\u001B[39;00m\u001B[38;5;124m'\u001B[39m\u001B[38;5;124m = \u001B[39m\u001B[38;5;124m'\u001B[39m\u001B[38;5;132;01m{\u001B[39;00marg1\u001B[38;5;132;01m}\u001B[39;00m\u001B[38;5;124m'\u001B[39m\u001B[38;5;124m \u001B[39m\u001B[38;5;132;01m{\u001B[39;00moperator\u001B[38;5;132;01m}\u001B[39;00m\u001B[38;5;124m \u001B[39m\u001B[38;5;124m'\u001B[39m\u001B[38;5;132;01m{\u001B[39;00marg2\u001B[38;5;132;01m}\u001B[39;00m\u001B[38;5;124m'\u001B[39m\u001B[38;5;124m\"\u001B[39m)\n\u001B[0;32m---> 94\u001B[0m \u001B[38;5;28mprint\u001B[39m(\u001B[38;5;28;43mself\u001B[39;49m\u001B[38;5;241;43m.\u001B[39;49m\u001B[43m_evaluate_single_dependency\u001B[49m\u001B[43m(\u001B[49m\u001B[38;5;28;43mself\u001B[39;49m\u001B[38;5;241;43m.\u001B[39;49m\u001B[43mvalue_dict\u001B[49m\u001B[43m[\u001B[49m\u001B[43marg1\u001B[49m\u001B[43m]\u001B[49m\u001B[43m,\u001B[49m\u001B[43m \u001B[49m\u001B[38;5;28;43mself\u001B[39;49m\u001B[38;5;241;43m.\u001B[39;49m\u001B[43mvalue_dict\u001B[49m\u001B[43m[\u001B[49m\u001B[43marg2\u001B[49m\u001B[43m]\u001B[49m\u001B[43m,\u001B[49m\u001B[43m \u001B[49m\u001B[43moperator\u001B[49m\u001B[43m)\u001B[49m)\n",
      "File \u001B[0;32m~/Documents/tRBS/open source/tRBS_model/model/core/evaluate.py:72\u001B[0m, in \u001B[0;36mEvaluate._evaluate_single_dependency\u001B[0;34m(argument_1_value, argument_2_value, operator)\u001B[0m\n\u001B[1;32m     69\u001B[0m operators_dict \u001B[38;5;241m=\u001B[39m {\u001B[38;5;124m\"\u001B[39m\u001B[38;5;124m-\u001B[39m\u001B[38;5;124m\"\u001B[39m: \u001B[38;5;28;01mlambda\u001B[39;00m x, y: x \u001B[38;5;241m-\u001B[39m y, \u001B[38;5;124m\"\u001B[39m\u001B[38;5;124m+\u001B[39m\u001B[38;5;124m\"\u001B[39m: \u001B[38;5;28;01mlambda\u001B[39;00m x, y: x \u001B[38;5;241m+\u001B[39m y, \u001B[38;5;124m\"\u001B[39m\u001B[38;5;124m*\u001B[39m\u001B[38;5;124m\"\u001B[39m: \u001B[38;5;28;01mlambda\u001B[39;00m x, y: x \u001B[38;5;241m*\u001B[39m y}\n\u001B[1;32m     71\u001B[0m \u001B[38;5;28;01mif\u001B[39;00m operator \u001B[38;5;129;01mnot\u001B[39;00m \u001B[38;5;129;01min\u001B[39;00m operators_dict\u001B[38;5;241m.\u001B[39mkeys():  \u001B[38;5;66;03m# ignore warning about .keys() | pylint: disable=C0201\u001B[39;00m\n\u001B[0;32m---> 72\u001B[0m     \u001B[38;5;28;01mraise\u001B[39;00m EvaluationError(\u001B[38;5;124mf\u001B[39m\u001B[38;5;124m\"\u001B[39m\u001B[38;5;132;01m{\u001B[39;00moperator\u001B[38;5;132;01m}\u001B[39;00m\u001B[38;5;124m not available\u001B[39m\u001B[38;5;124m\"\u001B[39m)\n\u001B[1;32m     74\u001B[0m \u001B[38;5;66;03m# apply operations based on occurrence in operators_dict\u001B[39;00m\n\u001B[1;32m     75\u001B[0m \u001B[38;5;28;01mreturn\u001B[39;00m operators_dict[operator](argument_1_value, argument_2_value)\n",
      "\u001B[0;31mEvaluationError\u001B[0m: Evaluation error: Squeezed * not available"
     ]
    }
   ],
   "source": [
    "case.evaluate()"
   ]
  },
  {
   "cell_type": "code",
   "execution_count": null,
   "metadata": {},
   "outputs": [],
   "source": []
  },
  {
   "cell_type": "code",
   "execution_count": null,
   "metadata": {},
   "outputs": [],
   "source": []
  }
 ],
 "metadata": {
  "kernelspec": {
   "display_name": "Python 3 (ipykernel)",
   "language": "python",
   "name": "python3"
  },
  "language_info": {
   "codemirror_mode": {
    "name": "ipython",
    "version": 3
   },
   "file_extension": ".py",
   "mimetype": "text/x-python",
   "name": "python",
   "nbconvert_exporter": "python",
   "pygments_lexer": "ipython3",
   "version": "3.9.0"
  }
 },
 "nbformat": 4,
 "nbformat_minor": 1
}