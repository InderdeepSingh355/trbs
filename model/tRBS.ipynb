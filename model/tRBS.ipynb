{
 "cells": [
  {
   "cell_type": "markdown",
   "metadata": {},
   "source": [
    "## Model: Responsible Business Simulator (RBS)\n",
    "In this notebook the core (calculation) steps of the RBS model are illustrated.\n",
    "\n",
    "### (I): Read data\n",
    "Firstly, we are going to read in the data. To do this we use the **import_case()** function that is part of the **core**-folder. This function takes two arguments: a _file_format_ (csv, json or xlsx) and a _path_ to the folder containing the data-folders. Note that with folder there should a folder with a name that matches the _file_format_.  "
   ]
  },
  {
   "cell_type": "code",
   "execution_count": 1,
   "metadata": {},
   "outputs": [],
   "source": [
    "from pathlib import Path\n",
    "from core.import_case import import_case\n",
    "\n",
    "file_format = 'xlsx'\n",
    "path = Path.cwd() / 'data' / 'beerwiser'\n",
    "case_data = import_case(file_format, path)"
   ]
  },
  {
   "cell_type": "markdown",
   "metadata": {},
   "source": [
    "Let's see how our formatted data looks now. _case_data_ is a dictionary containing arrays for each variable.   "
   ]
  },
  {
   "cell_type": "code",
   "execution_count": 2,
   "metadata": {},
   "outputs": [
    {
     "name": "stdout",
     "output_type": "stream",
     "text": [
      "configurations :\n",
      " ['use_theme_weights']\n",
      "configuration_value :\n",
      " [0]\n",
      "key_outputs :\n",
      " ['Accidents reduction' 'Water use reduction' 'Production cost reduction']\n",
      "key_output_unit :\n",
      " ['#/year' 'hl/year' '%']\n",
      "key_output_theme :\n",
      " ['People' 'Planet' 'Profit']\n",
      "themes :\n",
      " ['People' 'Planet' 'Profit']\n",
      "key_output_minimum :\n",
      " [nan nan nan]\n",
      "key_output_maximum :\n",
      " [nan nan nan]\n",
      "key_output_monetary :\n",
      " [0 0 0]\n",
      "key_output_smaller_the_better :\n",
      " [0 0 0]\n",
      "key_output_linear :\n",
      " [1 1 0]\n",
      "key_output_automatic :\n",
      " [1 1 1]\n",
      "key_output_start :\n",
      " [nan nan nan]\n",
      "key_output_end :\n",
      " [nan nan nan]\n",
      "key_output_threshold :\n",
      " [nan nan nan]\n",
      "decision_makers_options :\n",
      " ['Focus on water recycling' 'Focus on training' 'Equal spread']\n",
      "internal_variable_inputs :\n",
      " ['Invest in training of employees' 'Invest in water recycling']\n",
      "decision_makers_option_value :\n",
      " [[5.0e+004 2.5e+005]\n",
      " [2.0e-323 5.0e+004]\n",
      " [9.9e-324 1.5e+005]]\n",
      "scenarios :\n",
      " ['Base case' 'Optimistic' 'Pessimistic']\n",
      "external_variable_inputs :\n",
      " ['Cost of accident' 'Effectiveness water recycling']\n",
      "scenario_value :\n",
      " [[1.50000000e+004 9.80000000e-001]\n",
      " [1.97626258e-323 1.00000000e+000]\n",
      " [2.14321575e-312 9.00000000e-001]]\n",
      "fixed_inputs :\n",
      " ['# employees' 'Current # accidents' 'Current production cost'\n",
      " 'Current water use' 'Water unit cost']\n",
      "fixed_input_value :\n",
      " [5.0e+02 5.1e+01 7.5e+06 1.5e+07 5.0e-02]\n",
      "fixed_input_unit :\n",
      " ['#' '#' '$' 'hl' '$']\n",
      "intermediates :\n",
      " ['Accidents reduction %' 'Water use reduction % when effective'\n",
      " 'Water use reduction %' 'Production cost reduction $'\n",
      " 'Cost of training per employee' 'New water use' 'New # accidents']\n",
      "intermediate_unit :\n",
      " ['%' '%' '%' '$' '$' 'hl/year' '#/year']\n",
      "intermediate_minimum :\n",
      " [nan nan nan nan nan nan nan]\n",
      "intermediate_maximum :\n",
      " [nan nan nan nan nan nan nan]\n",
      "dependencies :\n",
      " [ 0  1  8  9 11  2  3  4  6 10  5 12  7]\n",
      "destination :\n",
      " ['Accidents reduction %' 'Water use reduction % when effective'\n",
      " 'Cost of training per employee' 'New # accidents' 'New water use'\n",
      " 'Water use reduction %' 'Accidents reduction' 'Water use reduction'\n",
      " 'Production cost reduction $' 'New # accidents'\n",
      " 'Production cost reduction $' 'New water use' 'Production cost reduction']\n",
      "argument_1 :\n",
      " ['Invest in training of employees' 'Invest in water recycling'\n",
      " 'Invest in training of employees' 'Current # accidents'\n",
      " 'Current water use' 'Water use reduction % when effective'\n",
      " 'Current # accidents' 'Water use reduction %' 'Accidents reduction'\n",
      " 'Accidents reduction' 'Water use reduction' 'Water use reduction'\n",
      " 'Production cost reduction $']\n",
      "argument_2 :\n",
      " ['' '' '# employees' '' '' 'Effectiveness water recycling'\n",
      " 'Accidents reduction %' 'Current water use' 'Cost of accident' ''\n",
      " 'Water unit cost' '' 'Current production cost']\n",
      "operator :\n",
      " ['Squeezed *' 'Squeezed *' '/' '*' '*' '*' '*' '*' '*' '-*' '*' '-*' '/']\n",
      "maximum_effect :\n",
      " [0.48 0.5   nan  nan  nan  nan  nan  nan  nan  nan  nan  nan  nan]\n",
      "accessibility :\n",
      " [0.95 1.    nan  nan  nan  nan  nan  nan  nan  nan  nan  nan  nan]\n",
      "probability_of_success :\n",
      " [0.9 1.  nan nan nan nan nan nan nan nan nan nan nan]\n",
      "saturation_point :\n",
      " [300000. 275000.     nan     nan     nan     nan     nan     nan     nan\n",
      "     nan     nan     nan     nan]\n",
      "theme_weight :\n",
      " [2 1 3]\n",
      "key_output_weight :\n",
      " [2. 1. 3.]\n",
      "scenario_weight :\n",
      " [2. 1. 3.]\n"
     ]
    }
   ],
   "source": [
    "for entry in case_data:\n",
    "    print(entry,\":\\n\",case_data[entry])"
   ]
  },
  {
   "cell_type": "code",
   "execution_count": null,
   "metadata": {},
   "outputs": [],
   "source": []
  }
 ],
 "metadata": {
  "kernelspec": {
   "display_name": "Python 3 (ipykernel)",
   "language": "python",
   "name": "python3"
  },
  "language_info": {
   "codemirror_mode": {
    "name": "ipython",
    "version": 3
   },
   "file_extension": ".py",
   "mimetype": "text/x-python",
   "name": "python",
   "nbconvert_exporter": "python",
   "pygments_lexer": "ipython3",
   "version": "3.9.0"
  }
 },
 "nbformat": 4,
 "nbformat_minor": 1
}